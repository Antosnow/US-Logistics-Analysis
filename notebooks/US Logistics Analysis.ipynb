{
 "cells": [
  {
   "cell_type": "code",
   "execution_count": 75,
   "id": "855c5bc0-e691-4f7d-9bc9-eef05ecb13a2",
   "metadata": {},
   "outputs": [],
   "source": [
    "import pandas as pd\n",
    "import numpy as np\n",
    "import matplotlib.pyplot as plt\n",
    "import seaborn as sns"
   ]
  },
  {
   "cell_type": "markdown",
   "id": "0818e274-156a-45ec-8c81-1e2a6059189d",
   "metadata": {},
   "source": [
    "**Loading the Dataset**"
   ]
  },
  {
   "cell_type": "code",
   "execution_count": 76,
   "id": "4544fac9-3ff8-43b2-b8fb-7c58d155a8be",
   "metadata": {},
   "outputs": [
    {
     "data": {
      "text/html": [
       "<div>\n",
       "<style scoped>\n",
       "    .dataframe tbody tr th:only-of-type {\n",
       "        vertical-align: middle;\n",
       "    }\n",
       "\n",
       "    .dataframe tbody tr th {\n",
       "        vertical-align: top;\n",
       "    }\n",
       "\n",
       "    .dataframe thead th {\n",
       "        text-align: right;\n",
       "    }\n",
       "</style>\n",
       "<table border=\"1\" class=\"dataframe\">\n",
       "  <thead>\n",
       "    <tr style=\"text-align: right;\">\n",
       "      <th></th>\n",
       "      <th>Shipment_ID</th>\n",
       "      <th>Origin_Warehouse</th>\n",
       "      <th>Destination</th>\n",
       "      <th>Carrier</th>\n",
       "      <th>Shipment_Date</th>\n",
       "      <th>Delivery_Date</th>\n",
       "      <th>Weight_kg</th>\n",
       "      <th>Cost</th>\n",
       "      <th>Status</th>\n",
       "      <th>Distance_miles</th>\n",
       "      <th>Transit_Days</th>\n",
       "    </tr>\n",
       "  </thead>\n",
       "  <tbody>\n",
       "    <tr>\n",
       "      <th>0</th>\n",
       "      <td>SH10000</td>\n",
       "      <td>Warehouse_MIA</td>\n",
       "      <td>San Francisco</td>\n",
       "      <td>UPS</td>\n",
       "      <td>2023-10-02</td>\n",
       "      <td>2023-10-04</td>\n",
       "      <td>25.7</td>\n",
       "      <td>67.46</td>\n",
       "      <td>Delivered</td>\n",
       "      <td>291</td>\n",
       "      <td>2</td>\n",
       "    </tr>\n",
       "    <tr>\n",
       "      <th>1</th>\n",
       "      <td>SH10001</td>\n",
       "      <td>Warehouse_MIA</td>\n",
       "      <td>Atlanta</td>\n",
       "      <td>DHL</td>\n",
       "      <td>2023-12-06</td>\n",
       "      <td>2023-12-09</td>\n",
       "      <td>38.9</td>\n",
       "      <td>268.85</td>\n",
       "      <td>Delivered</td>\n",
       "      <td>1225</td>\n",
       "      <td>3</td>\n",
       "    </tr>\n",
       "    <tr>\n",
       "      <th>2</th>\n",
       "      <td>SH10002</td>\n",
       "      <td>Warehouse_LA</td>\n",
       "      <td>Houston</td>\n",
       "      <td>DHL</td>\n",
       "      <td>2023-09-18</td>\n",
       "      <td>2023-09-20</td>\n",
       "      <td>37.2</td>\n",
       "      <td>74.35</td>\n",
       "      <td>Delivered</td>\n",
       "      <td>220</td>\n",
       "      <td>2</td>\n",
       "    </tr>\n",
       "    <tr>\n",
       "      <th>3</th>\n",
       "      <td>SH10003</td>\n",
       "      <td>Warehouse_BOS</td>\n",
       "      <td>Seattle</td>\n",
       "      <td>OnTrac</td>\n",
       "      <td>2023-01-26</td>\n",
       "      <td>2023-02-04</td>\n",
       "      <td>42.6</td>\n",
       "      <td>187.04</td>\n",
       "      <td>Delivered</td>\n",
       "      <td>1156</td>\n",
       "      <td>9</td>\n",
       "    </tr>\n",
       "    <tr>\n",
       "      <th>4</th>\n",
       "      <td>SH10004</td>\n",
       "      <td>Warehouse_SF</td>\n",
       "      <td>Dallas</td>\n",
       "      <td>OnTrac</td>\n",
       "      <td>2023-06-03</td>\n",
       "      <td>2023-06-06</td>\n",
       "      <td>7.9</td>\n",
       "      <td>120.01</td>\n",
       "      <td>Delivered</td>\n",
       "      <td>1017</td>\n",
       "      <td>3</td>\n",
       "    </tr>\n",
       "  </tbody>\n",
       "</table>\n",
       "</div>"
      ],
      "text/plain": [
       "  Shipment_ID Origin_Warehouse    Destination Carrier Shipment_Date  \\\n",
       "0     SH10000    Warehouse_MIA  San Francisco     UPS    2023-10-02   \n",
       "1     SH10001    Warehouse_MIA        Atlanta     DHL    2023-12-06   \n",
       "2     SH10002     Warehouse_LA        Houston     DHL    2023-09-18   \n",
       "3     SH10003    Warehouse_BOS        Seattle  OnTrac    2023-01-26   \n",
       "4     SH10004     Warehouse_SF         Dallas  OnTrac    2023-06-03   \n",
       "\n",
       "  Delivery_Date  Weight_kg    Cost     Status  Distance_miles  Transit_Days  \n",
       "0    2023-10-04       25.7   67.46  Delivered             291             2  \n",
       "1    2023-12-09       38.9  268.85  Delivered            1225             3  \n",
       "2    2023-09-20       37.2   74.35  Delivered             220             2  \n",
       "3    2023-02-04       42.6  187.04  Delivered            1156             9  \n",
       "4    2023-06-06        7.9  120.01  Delivered            1017             3  "
      ]
     },
     "execution_count": 76,
     "metadata": {},
     "output_type": "execute_result"
    }
   ],
   "source": [
    "df = pd.read_csv(\"E:\\Logistics Project\\data\\logistics_shipments_dataset.csv\")\n",
    "df.head()"
   ]
  },
  {
   "cell_type": "code",
   "execution_count": 77,
   "id": "90b9367e-51f9-4b18-a6ce-fa0c0f19ec18",
   "metadata": {},
   "outputs": [
    {
     "data": {
      "text/plain": [
       "(2000, 11)"
      ]
     },
     "execution_count": 77,
     "metadata": {},
     "output_type": "execute_result"
    }
   ],
   "source": [
    "df.shape"
   ]
  },
  {
   "cell_type": "code",
   "execution_count": 78,
   "id": "4180e48d-6f6e-4496-851f-e3b8fce11812",
   "metadata": {},
   "outputs": [
    {
     "name": "stdout",
     "output_type": "stream",
     "text": [
      "<class 'pandas.core.frame.DataFrame'>\n",
      "RangeIndex: 2000 entries, 0 to 1999\n",
      "Data columns (total 11 columns):\n",
      " #   Column            Non-Null Count  Dtype  \n",
      "---  ------            --------------  -----  \n",
      " 0   Shipment_ID       2000 non-null   object \n",
      " 1   Origin_Warehouse  2000 non-null   object \n",
      " 2   Destination       2000 non-null   object \n",
      " 3   Carrier           2000 non-null   object \n",
      " 4   Shipment_Date     2000 non-null   object \n",
      " 5   Delivery_Date     1968 non-null   object \n",
      " 6   Weight_kg         2000 non-null   float64\n",
      " 7   Cost              1959 non-null   float64\n",
      " 8   Status            2000 non-null   object \n",
      " 9   Distance_miles    2000 non-null   int64  \n",
      " 10  Transit_Days      2000 non-null   int64  \n",
      "dtypes: float64(2), int64(2), object(7)\n",
      "memory usage: 172.0+ KB\n"
     ]
    }
   ],
   "source": [
    "df.info()"
   ]
  },
  {
   "cell_type": "code",
   "execution_count": 79,
   "id": "64c137a9-0540-4b61-9658-d1dc287699f5",
   "metadata": {},
   "outputs": [
    {
     "data": {
      "text/html": [
       "<div>\n",
       "<style scoped>\n",
       "    .dataframe tbody tr th:only-of-type {\n",
       "        vertical-align: middle;\n",
       "    }\n",
       "\n",
       "    .dataframe tbody tr th {\n",
       "        vertical-align: top;\n",
       "    }\n",
       "\n",
       "    .dataframe thead th {\n",
       "        text-align: right;\n",
       "    }\n",
       "</style>\n",
       "<table border=\"1\" class=\"dataframe\">\n",
       "  <thead>\n",
       "    <tr style=\"text-align: right;\">\n",
       "      <th></th>\n",
       "      <th>Weight_kg</th>\n",
       "      <th>Cost</th>\n",
       "      <th>Distance_miles</th>\n",
       "      <th>Transit_Days</th>\n",
       "    </tr>\n",
       "  </thead>\n",
       "  <tbody>\n",
       "    <tr>\n",
       "      <th>count</th>\n",
       "      <td>2000.000000</td>\n",
       "      <td>1959.000000</td>\n",
       "      <td>2000.000000</td>\n",
       "      <td>2000.000000</td>\n",
       "    </tr>\n",
       "    <tr>\n",
       "      <th>mean</th>\n",
       "      <td>30.184800</td>\n",
       "      <td>205.161598</td>\n",
       "      <td>1275.868000</td>\n",
       "      <td>4.182500</td>\n",
       "    </tr>\n",
       "    <tr>\n",
       "      <th>std</th>\n",
       "      <td>124.967053</td>\n",
       "      <td>222.586082</td>\n",
       "      <td>691.382829</td>\n",
       "      <td>1.837902</td>\n",
       "    </tr>\n",
       "    <tr>\n",
       "      <th>min</th>\n",
       "      <td>0.000000</td>\n",
       "      <td>17.890000</td>\n",
       "      <td>101.000000</td>\n",
       "      <td>1.000000</td>\n",
       "    </tr>\n",
       "    <tr>\n",
       "      <th>25%</th>\n",
       "      <td>12.300000</td>\n",
       "      <td>117.710000</td>\n",
       "      <td>690.250000</td>\n",
       "      <td>3.000000</td>\n",
       "    </tr>\n",
       "    <tr>\n",
       "      <th>50%</th>\n",
       "      <td>20.700000</td>\n",
       "      <td>196.420000</td>\n",
       "      <td>1262.500000</td>\n",
       "      <td>4.000000</td>\n",
       "    </tr>\n",
       "    <tr>\n",
       "      <th>75%</th>\n",
       "      <td>33.925000</td>\n",
       "      <td>272.115000</td>\n",
       "      <td>1867.250000</td>\n",
       "      <td>5.000000</td>\n",
       "    </tr>\n",
       "    <tr>\n",
       "      <th>max</th>\n",
       "      <td>5404.200000</td>\n",
       "      <td>6562.210000</td>\n",
       "      <td>2499.000000</td>\n",
       "      <td>12.000000</td>\n",
       "    </tr>\n",
       "  </tbody>\n",
       "</table>\n",
       "</div>"
      ],
      "text/plain": [
       "         Weight_kg         Cost  Distance_miles  Transit_Days\n",
       "count  2000.000000  1959.000000     2000.000000   2000.000000\n",
       "mean     30.184800   205.161598     1275.868000      4.182500\n",
       "std     124.967053   222.586082      691.382829      1.837902\n",
       "min       0.000000    17.890000      101.000000      1.000000\n",
       "25%      12.300000   117.710000      690.250000      3.000000\n",
       "50%      20.700000   196.420000     1262.500000      4.000000\n",
       "75%      33.925000   272.115000     1867.250000      5.000000\n",
       "max    5404.200000  6562.210000     2499.000000     12.000000"
      ]
     },
     "execution_count": 79,
     "metadata": {},
     "output_type": "execute_result"
    }
   ],
   "source": [
    "df.describe()"
   ]
  },
  {
   "cell_type": "markdown",
   "id": "219f7c0f-9e49-4b63-8ee1-87690e4261c5",
   "metadata": {},
   "source": [
    "**Converting Dates** "
   ]
  },
  {
   "cell_type": "code",
   "execution_count": 80,
   "id": "2b1afdfb-d707-4bae-b6af-f32b16bbadeb",
   "metadata": {},
   "outputs": [],
   "source": [
    "date_cols = ['Shipment_Date', 'Delivery_Date', 'Expected_Delivery_Date']\n",
    "for col in date_cols:\n",
    "    if col in df.columns:\n",
    "        df[col] = pd.to_datetime(df[col], errors='coerce')"
   ]
  },
  {
   "cell_type": "markdown",
   "id": "7d708d06-0bb0-4f14-a706-565e90216e3a",
   "metadata": {},
   "source": [
    "**Feature Engineering**"
   ]
  },
  {
   "cell_type": "code",
   "execution_count": 81,
   "id": "e9ead9c4-cced-449e-897f-c1600f9a1f28",
   "metadata": {},
   "outputs": [],
   "source": [
    "if 'Shipment_Date' in df.columns and 'Delivery_Date' in df.columns:\n",
    "    df['Delivery_Time_Days'] = (df['Delivery_Date'] - df['Shipment_Date']).dt.days"
   ]
  },
  {
   "cell_type": "markdown",
   "id": "7be2c445-9eee-43d2-a2f2-95f0a578ad6c",
   "metadata": {},
   "source": [
    "**Handling Missing Values** "
   ]
  },
  {
   "cell_type": "code",
   "execution_count": 82,
   "id": "c1ca018e-9d3b-4f5a-8831-9bc47910b5f2",
   "metadata": {},
   "outputs": [],
   "source": [
    "num_cols = df.select_dtypes(include=[np.number]).columns\n",
    "for col in num_cols:\n",
    "    df[col] = df[col].fillna(df[col].median())"
   ]
  },
  {
   "cell_type": "code",
   "execution_count": 83,
   "id": "c0c53301-3d62-4785-8506-d497685b0a98",
   "metadata": {},
   "outputs": [],
   "source": [
    "cat_cols = df.select_dtypes(include=['object']).columns\n",
    "for col in cat_cols:\n",
    "    df[col] = df[col].fillna(df[col].mode()[0])"
   ]
  },
  {
   "cell_type": "code",
   "execution_count": 84,
   "id": "b89b36ad-cd80-4488-bef5-a84974c3b935",
   "metadata": {},
   "outputs": [],
   "source": [
    "df.drop_duplicates(inplace=True)"
   ]
  },
  {
   "cell_type": "markdown",
   "id": "572a444b-65b5-4170-b4e2-b05a04306ce2",
   "metadata": {},
   "source": [
    "**Exploratory Data Analysis (EDA)**"
   ]
  },
  {
   "cell_type": "markdown",
   "id": "7ca927f2-2ac7-4d74-8d25-dccd13473b4e",
   "metadata": {},
   "source": [
    "**Shipment Status Distribution**"
   ]
  },
  {
   "cell_type": "code",
   "execution_count": 85,
   "id": "754d6831-cf62-4724-9543-aab8971a5f38",
   "metadata": {},
   "outputs": [
    {
     "data": {
      "image/png": "[encoded data removed]",
      "text/plain": [
       "<Figure size 640x480 with 1 Axes>"
      ]
     },
     "metadata": {},
     "output_type": "display_data"
    }
   ],
   "source": [
    "sns.countplot(x='Status', data=df)\n",
    "plt.title(\"Shipment Status Distribution\")\n",
    "plt.show()"
   ]
  },
  {
   "cell_type": "markdown",
   "id": "45aec1ba-15a3-4cba-b58a-9f427ac12004",
   "metadata": {},
   "source": [
    "**Shipments Trends Over Time**"
   ]
  },
  {
   "cell_type": "code",
   "execution_count": 86,
   "id": "35d990da-adcd-4e12-a500-cfa05e9272e8",
   "metadata": {},
   "outputs": [
    {
     "data": {
      "image/png": "[encoded data removed]",
      "text/plain": [
       "<Figure size 640x480 with 1 Axes>"
      ]
     },
     "metadata": {},
     "output_type": "display_data"
    }
   ],
   "source": [
    "df.groupby(df['Shipment_Date'].dt.to_period(\"M\")).size().plot(kind='line')\n",
    "plt.title(\"Shipments Over Time\")\n",
    "plt.ylabel(\"Count\")\n",
    "plt.show()"
   ]
  },
  {
   "cell_type": "markdown",
   "id": "b453fd15-6a85-43cc-85ab-872f2d2d4d93",
   "metadata": {},
   "source": [
    "**Delay Distributions**"
   ]
  },
  {
   "cell_type": "code",
   "execution_count": 87,
   "id": "b0de629b-46b9-4f4c-b549-b4f873c50908",
   "metadata": {},
   "outputs": [
    {
     "name": "stdout",
     "output_type": "stream",
     "text": [
      "   Delivery_Time_Days  Transit_Days  Delay_Days\n",
      "0                 2.0             2         0.0\n",
      "1                 3.0             3         0.0\n",
      "2                 2.0             2         0.0\n",
      "3                 9.0             9         0.0\n",
      "4                 3.0             3         0.0\n"
     ]
    }
   ],
   "source": [
    "# Create Delay_Days based on actual vs planned transit\n",
    "if 'Delivery_Time_Days' in df.columns and 'Transit_Days' in df.columns:\n",
    "    df['Delay_Days'] = df['Delivery_Time_Days'] - df['Transit_Days']\n",
    "\n",
    "print(df[['Delivery_Time_Days', 'Transit_Days', 'Delay_Days']].head())"
   ]
  },
  {
   "cell_type": "code",
   "execution_count": 88,
   "id": "ae7455fe-0df8-475f-bbd3-6f893a55c4e8",
   "metadata": {},
   "outputs": [
    {
     "data": {
      "image/png": "[encoded data removed]",
      "text/plain": [
       "<Figure size 640x480 with 1 Axes>"
      ]
     },
     "metadata": {},
     "output_type": "display_data"
    }
   ],
   "source": [
    "sns.histplot(df['Delay_Days'].dropna(), bins=30, kde=True)\n",
    "plt.title(\"Delivery Delay Distribution\")\n",
    "plt.show()"
   ]
  },
  {
   "cell_type": "markdown",
   "id": "54d9d3f3-43d5-4b84-97f8-2dd0e8c8606b",
   "metadata": {},
   "source": [
    "**Carrier Performance**"
   ]
  },
  {
   "cell_type": "code",
   "execution_count": 89,
   "id": "1ef18ddc-43f7-457a-8b40-e0624647db5c",
   "metadata": {},
   "outputs": [
    {
     "data": {
      "image/png": "[encoded data removed]",
      "text/plain": [
       "<Figure size 640x480 with 1 Axes>"
      ]
     },
     "metadata": {},
     "output_type": "display_data"
    }
   ],
   "source": [
    "df.groupby('Carrier')['Delay_Days'].mean().sort_values().plot(kind='bar')\n",
    "plt.title(\"Average Delay by Carrier\")\n",
    "plt.ylabel(\"Avg Delay (Days)\")\n",
    "plt.show()"
   ]
  },
  {
   "cell_type": "markdown",
   "id": "9d73de92-e163-40a5-a1ec-3e85691d14a6",
   "metadata": {},
   "source": [
    "**Business Use Case KPIs**"
   ]
  },
  {
   "cell_type": "markdown",
   "id": "60f3b352-ba8d-4592-b36d-5bf1071bec9f",
   "metadata": {},
   "source": [
    "**On Time Delivery %**"
   ]
  },
  {
   "cell_type": "code",
   "execution_count": 90,
   "id": "4cec9612-ac4b-4f5b-8dd3-3e3c9e6c76f0",
   "metadata": {},
   "outputs": [
    {
     "name": "stdout",
     "output_type": "stream",
     "text": [
      "On-Time Delivery %: 89.4\n"
     ]
    }
   ],
   "source": [
    "on_time = (df['Delay_Days'] <= 0).mean() * 100\n",
    "print(\"On-Time Delivery %:\", round(on_time, 2))"
   ]
  },
  {
   "cell_type": "markdown",
   "id": "9b1ef88c-c322-4809-926a-ebe523c8b0b3",
   "metadata": {},
   "source": [
    "**Average Delivery Time**"
   ]
  },
  {
   "cell_type": "code",
   "execution_count": 91,
   "id": "0b255c48-5c90-4539-be2f-c9dc53ecf490",
   "metadata": {},
   "outputs": [
    {
     "name": "stdout",
     "output_type": "stream",
     "text": [
      "Average Delivery Time: 4.6085\n"
     ]
    }
   ],
   "source": [
    "avg_time = df['Delivery_Time_Days'].mean()\n",
    "print(\"Average Delivery Time:\", avg_time)"
   ]
  },
  {
   "cell_type": "markdown",
   "id": "6c58ed58-94c7-4094-bd89-1c2d7458bca5",
   "metadata": {},
   "source": [
    "**Top 10 Routes**"
   ]
  },
  {
   "cell_type": "code",
   "execution_count": 92,
   "id": "1dcbe635-ea01-430d-97e1-48541cc07b0a",
   "metadata": {},
   "outputs": [
    {
     "name": "stdout",
     "output_type": "stream",
     "text": [
      "Top Routes:\n",
      " Origin_Warehouse  Destination\n",
      "Warehouse_CHI     Denver         25\n",
      "Warehouse_LA      Dallas         24\n",
      "Warehouse_MIA     Detroit        23\n",
      "Warehouse_LA      New York       22\n",
      "                  Chicago        21\n",
      "Warehouse_BOS     Chicago        19\n",
      "Warehouse_DEN     Phoenix        19\n",
      "Warehouse_SF      Dallas         19\n",
      "Warehouse_DEN     Minneapolis    19\n",
      "Warehouse_ATL     Minneapolis    19\n",
      "dtype: int64\n"
     ]
    }
   ],
   "source": [
    "top_routes = df.groupby(['Origin_Warehouse', 'Destination']).size().sort_values(ascending=False).head(10)\n",
    "print(\"Top Routes:\\n\", top_routes)"
   ]
  },
  {
   "cell_type": "code",
   "execution_count": 93,
   "id": "4c14a7b9-52d1-43a5-925f-76fafba2b186",
   "metadata": {
    "scrolled": true
   },
   "outputs": [
    {
     "name": "stdout",
     "output_type": "stream",
     "text": [
      "Destination       Atlanta  Boston  Chicago  Dallas  Denver  Detroit  Houston  \\\n",
      "Origin_Warehouse                                                               \n",
      "Warehouse_ATL          13      18       15      16      13       13       16   \n",
      "Warehouse_BOS          11      10       19      13      13       12       13   \n",
      "Warehouse_CHI          17      11       14       6      25       17       15   \n",
      "Warehouse_DEN          18      13       10      11      11        7       11   \n",
      "Warehouse_HOU          11      13       16      15      14       18       11   \n",
      "Warehouse_LA            9      10       21      24      13        9       15   \n",
      "Warehouse_MIA          15      12       18       8      16       23        8   \n",
      "Warehouse_NYC          10       5       14      14       7       12       15   \n",
      "Warehouse_SEA          15      12       15      11      16       14       13   \n",
      "Warehouse_SF           14      15       12      19      14       16        9   \n",
      "\n",
      "Destination       Los Angeles  Miami  Minneapolis  New York  Phoenix  \\\n",
      "Origin_Warehouse                                                       \n",
      "Warehouse_ATL              10     14           19         6       17   \n",
      "Warehouse_BOS              16     12           12        10       16   \n",
      "Warehouse_CHI              12     16           14         5        8   \n",
      "Warehouse_DEN              16     15           19        13       19   \n",
      "Warehouse_HOU              14     18           15        14       17   \n",
      "Warehouse_LA               15     10           10        22       16   \n",
      "Warehouse_MIA              13      8           16        11       15   \n",
      "Warehouse_NYC              12     11           14         4       13   \n",
      "Warehouse_SEA               9      7           13        15        9   \n",
      "Warehouse_SF               10     12           16        17       18   \n",
      "\n",
      "Destination       Portland  San Francisco  Seattle  \n",
      "Origin_Warehouse                                    \n",
      "Warehouse_ATL           10             17       10  \n",
      "Warehouse_BOS           18              9        8  \n",
      "Warehouse_CHI           15             11       11  \n",
      "Warehouse_DEN           10             15        8  \n",
      "Warehouse_HOU           12             13       11  \n",
      "Warehouse_LA            16             16       14  \n",
      "Warehouse_MIA           16             13        9  \n",
      "Warehouse_NYC           16             12       11  \n",
      "Warehouse_SEA           16             11       14  \n",
      "Warehouse_SF            17             12       14  \n"
     ]
    }
   ],
   "source": [
    "pivot = df.pivot_table(\n",
    "    index='Origin_Warehouse',\n",
    "    columns='Destination',\n",
    "    values='Shipment_ID',\n",
    "    aggfunc='count',\n",
    "    fill_value=0\n",
    ")\n",
    "print(pivot)"
   ]
  },
  {
   "cell_type": "markdown",
   "id": "b822e1fc-8e62-4139-b6f0-d564fde5f015",
   "metadata": {},
   "source": [
    "**Predictive Analysis**"
   ]
  },
  {
   "cell_type": "code",
   "execution_count": 94,
   "id": "085ff8f2-8307-4fd3-80c6-851112438a1e",
   "metadata": {},
   "outputs": [],
   "source": [
    "from sklearn.model_selection import train_test_split\n",
    "from sklearn.ensemble import RandomForestClassifier\n",
    "from sklearn.metrics import classification_report"
   ]
  },
  {
   "cell_type": "code",
   "execution_count": 95,
   "id": "5baa2f8e-f6fe-4ae6-aaf9-50844bc353de",
   "metadata": {},
   "outputs": [],
   "source": [
    "df['Is_Delayed'] = (df['Delay_Days'] > 0).astype(int)"
   ]
  },
  {
   "cell_type": "code",
   "execution_count": 96,
   "id": "60467b19-3967-4ade-838c-f2da8a36ba08",
   "metadata": {},
   "outputs": [],
   "source": [
    "features = ['Origin_Warehouse', 'Carrier', 'Weight_kg', 'Cost']\n",
    "X = pd.get_dummies(df[features], drop_first=True)\n",
    "y = df['Is_Delayed']"
   ]
  },
  {
   "cell_type": "code",
   "execution_count": 97,
   "id": "f4dcd597-cc65-445a-af03-f4e26165a8a4",
   "metadata": {},
   "outputs": [],
   "source": [
    "X_train, X_test, y_train, y_test = train_test_split(X, y, test_size=0.3, random_state=42)"
   ]
  },
  {
   "cell_type": "code",
   "execution_count": 98,
   "id": "3c849017-06e0-4a0a-b252-6f1937f69465",
   "metadata": {},
   "outputs": [
    {
     "name": "stdout",
     "output_type": "stream",
     "text": [
      "              precision    recall  f1-score   support\n",
      "\n",
      "           0       0.90      0.99      0.94       541\n",
      "           1       0.25      0.03      0.06        59\n",
      "\n",
      "    accuracy                           0.90       600\n",
      "   macro avg       0.58      0.51      0.50       600\n",
      "weighted avg       0.84      0.90      0.86       600\n",
      "\n"
     ]
    }
   ],
   "source": [
    "clf = RandomForestClassifier(random_state=42)\n",
    "clf.fit(X_train, y_train)\n",
    "y_pred = clf.predict(X_test)\n",
    "\n",
    "print(classification_report(y_test, y_pred))"
   ]
  },
  {
   "cell_type": "markdown",
   "id": "d41b448a-d150-4f80-81e3-f027d12edb58",
   "metadata": {},
   "source": [
    "The model was evaluated using accuracy, precision, recall, and F1-score.\n",
    "\n",
    "**Results:**\n",
    "- Accuracy: **90%**\n",
    "- Precision (On-time): **0.90**\n",
    "- Recall (On-time): **0.99**\n",
    "- Precision (Delayed): **0.25**\n",
    "- Recall (Delayed): **0.03**\n",
    "\n",
    "**Interpretation:**\n",
    "- The model is excellent at predicting on-time shipments, correctly identifying nearly all of them.\n",
    "- However, it performs very poorly at identifying delayed shipments (only 3% recall).\n",
    "- The high overall accuracy is misleading because of **class imbalance** (majority of shipments are on-time).\n",
    "- Weighted metrics are inflated by the dominant class."
   ]
  }
 ],
 "metadata": {
  "kernelspec": {
   "display_name": "Python [conda env:base] *",
   "language": "python",
   "name": "conda-base-py"
  },
  "language_info": {
   "codemirror_mode": {
    "name": "ipython",
    "version": 3
   },
   "file_extension": ".py",
   "mimetype": "text/x-python",
   "name": "python",
   "nbconvert_exporter": "python",
   "pygments_lexer": "ipython3",
   "version": "3.13.5"
  }
 },
 "nbformat": 4,
 "nbformat_minor": 5
}
